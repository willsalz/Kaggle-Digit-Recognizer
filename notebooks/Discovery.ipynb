{
 "metadata": {
  "name": "",
  "signature": "sha256:df22a3daf4719c519052fb81687a36556a81ef00fc332f017062e0139596b68b"
 },
 "nbformat": 3,
 "nbformat_minor": 0,
 "worksheets": [
  {
   "cells": [
    {
     "cell_type": "code",
     "collapsed": false,
     "input": [
      "%matplotlib inline\n",
      "import numpy as np\n",
      "import pandas as pd\n",
      "import matplotlib.pyplot as plt\n",
      "from skimage import data, io, filter\n",
      "\n",
      "from sklearn import datasets\n",
      "from sklearn import svm\n",
      "from sklearn import cross_validation\n",
      "from sklearn import grid_search\n",
      "from sklearn import metrics"
     ],
     "language": "python",
     "metadata": {},
     "outputs": [],
     "prompt_number": 59
    },
    {
     "cell_type": "code",
     "collapsed": false,
     "input": [
      "data = pd.read_csv('../data/train.csv')\n",
      "X, y = data[[col for col in data.columns if not 'label' in col]], data['label']\n",
      "(X_train,X_test,y_train,y_test,) = cross_validation.train_test_split(X,y)\n",
      "\n",
      "parameters = {\n",
      "    'C': [1,10,100],\n",
      "    'kernel': [ 'poly', 'rbf', 'sigmoid',],\n",
      "}\n",
      "\n",
      "gs = grid_search.GridSearchCV(estimator=svm.SVC(probability =True),param_grid=parameters,verbose=1,n_jobs=-1)\n",
      "gs.fit(X_train,y_train)\n",
      "\n",
      "model = gs.best_estimator_\n",
      "prediction = model.predict(X_test)\n",
      "print metrics.accuracy_score(y_test, prediction)"
     ],
     "language": "python",
     "metadata": {},
     "outputs": [
      {
       "output_type": "stream",
       "stream": "stdout",
       "text": [
        "Fitting 3 folds for each of 9 candidates, totalling 27 fits\n"
       ]
      }
     ]
    },
    {
     "cell_type": "code",
     "collapsed": false,
     "input": [
      "image = X.ix[100].reshape(28,28).astype(np.float64)\n",
      "io.imshow(image)\n",
      "ax = io.show()\n"
     ],
     "language": "python",
     "metadata": {},
     "outputs": [
      {
       "metadata": {},
       "output_type": "display_data",
       "png": "[encoded data removed]",
       "text": [
        "<matplotlib.figure.Figure at 0x10de9e110>"
       ]
      }
     ],
     "prompt_number": 57
    },
    {
     "cell_type": "code",
     "collapsed": false,
     "input": [
      "from skimage.filter import sobel\n",
      "elevation_map = sobel(image)\n",
      "fig, ax = plt.subplots(figsize=(4, 3))\n",
      "ax.imshow(elevation_map, cmap=plt.cm.jet, interpolation='nearest')\n",
      "ax.axis('off')\n",
      "ax.set_title('elevation_map')"
     ],
     "language": "python",
     "metadata": {},
     "outputs": [
      {
       "metadata": {},
       "output_type": "pyout",
       "prompt_number": 36,
       "text": [
        "<matplotlib.text.Text at 0x10ce7dcd0>"
       ]
      },
      {
       "metadata": {},
       "output_type": "display_data",
       "png": "[encoded data removed]",
       "text": [
        "<matplotlib.figure.Figure at 0x10ce690d0>"
       ]
      }
     ],
     "prompt_number": 36
    },
    {
     "cell_type": "code",
     "collapsed": false,
     "input": [
      "markers = np.zeros_like(image)\n",
      "markers[image < 30] = 1\n",
      "markers[image > 150] = 2\n",
      "\n",
      "fig, ax = plt.subplots(figsize=(4, 3))\n",
      "ax.imshow(markers, cmap=plt.cm.spectral, interpolation='nearest')\n",
      "ax.axis('off')\n",
      "ax.set_title('markers')"
     ],
     "language": "python",
     "metadata": {},
     "outputs": [
      {
       "metadata": {},
       "output_type": "pyout",
       "prompt_number": 37,
       "text": [
        "<matplotlib.text.Text at 0x10ce73c10>"
       ]
      },
      {
       "metadata": {},
       "output_type": "display_data",
       "png": "[encoded data removed]",
       "text": [
        "<matplotlib.figure.Figure at 0x10ce0bad0>"
       ]
      }
     ],
     "prompt_number": 37
    },
    {
     "cell_type": "code",
     "collapsed": false,
     "input": [
      "from skimage import morphology\n",
      "\n",
      "segmentation = morphology.watershed(elevation_map, markers)\n",
      "\n",
      "fig, ax = plt.subplots(figsize=(4, 3))\n",
      "ax.imshow(segmentation, cmap=plt.cm.gray, interpolation='nearest')\n",
      "ax.axis('off')\n",
      "ax.set_title('segmentation')"
     ],
     "language": "python",
     "metadata": {},
     "outputs": [
      {
       "metadata": {},
       "output_type": "pyout",
       "prompt_number": 38,
       "text": [
        "<matplotlib.text.Text at 0x10ce8ee50>"
       ]
      },
      {
       "metadata": {},
       "output_type": "display_data",
       "png": "[encoded data removed]",
       "text": [
        "<matplotlib.figure.Figure at 0x10cec0610>"
       ]
      }
     ],
     "prompt_number": 38
    },
    {
     "cell_type": "code",
     "collapsed": false,
     "input": [
      "from skimage.color import label2rgb\n",
      "from scipy import ndimage\n",
      "\n",
      "segmentation = ndimage.binary_fill_holes(segmentation - 1)\n",
      "labeled_coins, _ = ndimage.label(segmentation)\n",
      "image_label_overlay = label2rgb(labeled_coins, image=image)\n",
      "\n",
      "fig, (ax1, ax2) = plt.subplots(1, 2, figsize=(6, 3))\n",
      "ax1.imshow(image, cmap=plt.cm.gray, interpolation='nearest')\n",
      "ax1.contour(segmentation, [0.5], linewidths=1.2, colors='y')\n",
      "ax2.imshow(image_label_overlay, interpolation='nearest')"
     ],
     "language": "python",
     "metadata": {},
     "outputs": [
      {
       "metadata": {},
       "output_type": "pyout",
       "prompt_number": 44,
       "text": [
        "<matplotlib.image.AxesImage at 0x10ceadd10>"
       ]
      },
      {
       "metadata": {},
       "output_type": "display_data",
       "png": "[encoded data removed]",
       "text": [
        "<matplotlib.figure.Figure at 0x10d0b4250>"
       ]
      }
     ],
     "prompt_number": 44
    }
   ],
   "metadata": {}
  }
 ]
}