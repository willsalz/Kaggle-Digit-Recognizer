{
 "metadata": {
  "name": "",
  "signature": "sha256:6145c54f78e4179f667943acda046e94124de292ccc1206feff4ae2d8f725006"
 },
 "nbformat": 3,
 "nbformat_minor": 0,
 "worksheets": [
  {
   "cells": [
    {
     "cell_type": "code",
     "collapsed": false,
     "input": [
      "%matplotlib inline\n",
      "import numpy as np\n",
      "import pandas as pd\n",
      "import matplotlib.pyplot as plt\n",
      "from skimage import data, io, filter\n",
      "\n",
      "from sklearn import datasets\n",
      "from sklearn import svm\n",
      "from sklearn import cross_validation\n",
      "from sklearn import grid_search\n",
      "from sklearn import metrics\n",
      "from sklearn import decomposition\n",
      "from sklearn import pipeline\n",
      "from sklearn import preprocessing"
     ],
     "language": "python",
     "metadata": {},
     "outputs": [],
     "prompt_number": 7
    },
    {
     "cell_type": "code",
     "collapsed": false,
     "input": [
      "# Load Data\n",
      "data = pd.read_csv('../data/partial.csv').astype(np.float64)\n",
      "X, y = data[[col for col in data.columns if not 'label' in col]], data['label']\n",
      "\n",
      "scaler = preprocessing.MinMaxScaler()\n",
      "X = scaler.fit_transform(X)"
     ],
     "language": "python",
     "metadata": {},
     "outputs": [],
     "prompt_number": 9
    },
    {
     "cell_type": "code",
     "collapsed": false,
     "input": [
      "pca = decomposition.PCA(n_components=12)\n",
      "pca.fit(X_train)\n",
      "plt.scatter(np.arange(len(pca.explained_variance_ratio_)),pca.explained_variance_ratio_,)\n",
      "plt.minorticks_on()\n",
      "plt.grid(b=True,which='minor',lw='.5')\n",
      "plt.grid(b=True,which='major',linestyle='-')\n",
      "\n",
      "X = pca.transform(X)"
     ],
     "language": "python",
     "metadata": {},
     "outputs": [
      {
       "metadata": {},
       "output_type": "display_data",
       "png": "[encoded data removed]",
       "text": [
        "<matplotlib.figure.Figure at 0x10ad44e90>"
       ]
      }
     ],
     "prompt_number": 10
    },
    {
     "cell_type": "code",
     "collapsed": false,
     "input": [
      "(X_train,X_test,y_train,y_test,) = cross_validation.train_test_split(X,y)"
     ],
     "language": "python",
     "metadata": {},
     "outputs": [],
     "prompt_number": 11
    },
    {
     "cell_type": "code",
     "collapsed": false,
     "input": [
      "svc = svm.SVC()\n",
      "\n",
      "param_grid = {\n",
      "    'C': [0.1, 1, 10,],\n",
      "    'kernel': ['rbf','poly'],\n",
      "}\n",
      "\n",
      "gs = grid_search.GridSearchCV(estimator=svc, param_grid=param_grid, verbose=1, n_jobs=-1)\n",
      "gs.fit(X_train,y_train)\n",
      "model = gs.best_estimator_\n",
      "print gs.best_params_\n",
      "\n",
      "\n",
      "prediction = model.predict(X_test)\n",
      "print metrics.accuracy_score(y_test, prediction)"
     ],
     "language": "python",
     "metadata": {},
     "outputs": []
    },
    {
     "cell_type": "code",
     "collapsed": false,
     "input": [
      "image = X.ix[100].reshape(28,-1).astype(np.float64)\n",
      "io.imshow(image)\n",
      "ax = io.show()\n"
     ],
     "language": "python",
     "metadata": {},
     "outputs": [
      {
       "metadata": {},
       "output_type": "display_data",
       "png": "[encoded data removed]",
       "text": [
        "<matplotlib.figure.Figure at 0x10f2dff50>"
       ]
      }
     ],
     "prompt_number": 43
    },
    {
     "cell_type": "code",
     "collapsed": false,
     "input": [
      "from skimage.filter import sobel\n",
      "elevation_map = sobel(image)\n",
      "fig, ax = plt.subplots(figsize=(4, 3))\n",
      "ax.imshow(elevation_map, cmap=plt.cm.jet, interpolation='nearest')\n",
      "ax.axis('off')\n",
      "ax.set_title('elevation_map')"
     ],
     "language": "python",
     "metadata": {},
     "outputs": [
      {
       "metadata": {},
       "output_type": "pyout",
       "prompt_number": 33,
       "text": [
        "<matplotlib.text.Text at 0x111ed9650>"
       ]
      },
      {
       "metadata": {},
       "output_type": "display_data",
       "png": "[encoded data removed]",
       "text": [
        "<matplotlib.figure.Figure at 0x10f2bb690>"
       ]
      }
     ],
     "prompt_number": 33
    },
    {
     "cell_type": "code",
     "collapsed": false,
     "input": [
      "markers = np.zeros_like(image)\n",
      "markers[image < 30] = 1\n",
      "markers[image > 150] = 2\n",
      "\n",
      "fig, ax = plt.subplots(figsize=(4, 3))\n",
      "ax.imshow(markers, cmap=plt.cm.spectral, interpolation='nearest')\n",
      "ax.axis('off')\n",
      "ax.set_title('markers')"
     ],
     "language": "python",
     "metadata": {},
     "outputs": [
      {
       "metadata": {},
       "output_type": "pyout",
       "prompt_number": 34,
       "text": [
        "<matplotlib.text.Text at 0x10f457d10>"
       ]
      },
      {
       "metadata": {},
       "output_type": "display_data",
       "png": "[encoded data removed]",
       "text": [
        "<matplotlib.figure.Figure at 0x10f2c4b50>"
       ]
      }
     ],
     "prompt_number": 34
    },
    {
     "cell_type": "code",
     "collapsed": false,
     "input": [
      "from skimage import morphology\n",
      "\n",
      "segmentation = morphology.watershed(elevation_map, markers)\n",
      "\n",
      "fig, ax = plt.subplots(figsize=(4, 3))\n",
      "ax.imshow(segmentation, cmap=plt.cm.gray, interpolation='nearest')\n",
      "ax.axis('off')\n",
      "ax.set_title('segmentation')"
     ],
     "language": "python",
     "metadata": {},
     "outputs": [
      {
       "metadata": {},
       "output_type": "pyout",
       "prompt_number": 35,
       "text": [
        "<matplotlib.text.Text at 0x112188910>"
       ]
      },
      {
       "metadata": {},
       "output_type": "display_data",
       "png": "[encoded data removed]",
       "text": [
        "<matplotlib.figure.Figure at 0x112157b50>"
       ]
      }
     ],
     "prompt_number": 35
    },
    {
     "cell_type": "code",
     "collapsed": false,
     "input": [
      "from skimage.color import label2rgb\n",
      "from scipy import ndimage\n",
      "\n",
      "segmentation = ndimage.binary_fill_holes(segmentation - 1)\n",
      "labeled_coins, _ = ndimage.label(segmentation)\n",
      "image_label_overlay = label2rgb(labeled_coins, image=image)\n",
      "\n",
      "fig, (ax1, ax2) = plt.subplots(1, 2, figsize=(6, 3))\n",
      "ax1.imshow(image, cmap=plt.cm.gray, interpolation='nearest')\n",
      "ax1.contour(segmentation, [0.5], linewidths=1.2, colors='y')\n",
      "ax2.imshow(image_label_overlay, interpolation='nearest')"
     ],
     "language": "python",
     "metadata": {},
     "outputs": [
      {
       "metadata": {},
       "output_type": "pyout",
       "prompt_number": 36,
       "text": [
        "<matplotlib.image.AxesImage at 0x112124710>"
       ]
      },
      {
       "metadata": {},
       "output_type": "display_data",
       "png": "[encoded data removed]",
       "text": [
        "<matplotlib.figure.Figure at 0x10f2e30d0>"
       ]
      }
     ],
     "prompt_number": 36
    },
    {
     "cell_type": "code",
     "collapsed": false,
     "input": [],
     "language": "python",
     "metadata": {},
     "outputs": []
    }
   ],
   "metadata": {}
  }
 ]
}