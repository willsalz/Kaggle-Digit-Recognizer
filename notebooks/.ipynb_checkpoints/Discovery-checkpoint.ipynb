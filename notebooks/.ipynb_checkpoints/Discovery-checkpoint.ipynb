{
 "metadata": {
  "name": "",
  "signature": "sha256:78e326e527208059a8ecc15b64912500adc99128eb591e730117c702287e3c49"
 },
 "nbformat": 3,
 "nbformat_minor": 0,
 "worksheets": [
  {
   "cells": [
    {
     "cell_type": "code",
     "collapsed": false,
     "input": [
      "%matplotlib inline\n",
      "import numpy as np\n",
      "import pandas as pd\n",
      "import matplotlib.pyplot as plt\n",
      "import skimage as si #data, io, filterb\n",
      "\n",
      "from sklearn import datasets\n",
      "from sklearn import svm\n",
      "from sklearn import cross_validation\n",
      "from sklearn import grid_search\n",
      "from sklearn import metrics"
     ],
     "language": "python",
     "metadata": {},
     "outputs": [],
     "prompt_number": 124
    },
    {
     "cell_type": "code",
     "collapsed": false,
     "input": [
      "data = pd.read_csv('../data/partial.csv')\n",
      "X, y = data[[col for col in data.columns if not 'label' in col]], data['label']\n",
      "(X_train,X_test,y_train,y_test,) = cross_validation.train_test_split(X,y)\n",
      "\n",
      "parameters = {\n",
      "    'C': [1,10,100],\n",
      "    'kernel': [ 'linear', 'poly', 'rbf', 'sigmoid',],\n",
      "    'gamma': [0.0,0.1],\n",
      "}\n",
      "\n",
      "gs = grid_search.GridSearchCV(estimator=svm.SVC(probability =True),param_grid=parameters,verbose=1,n_jobs=-1)\n",
      "gs.fit(X_train,y_train)\n",
      "\n",
      "model = gs.best_estimator_\n",
      "prediction = model.predict(X_test)\n",
      "metrics.accuracy_score(y_test, prediction)"
     ],
     "language": "python",
     "metadata": {},
     "outputs": [
      {
       "output_type": "stream",
       "stream": "stdout",
       "text": [
        "Fitting 3 folds for each of 24 candidates, totalling 72 fits\n"
       ]
      },
      {
       "output_type": "stream",
       "stream": "stderr",
       "text": [
        "[Parallel(n_jobs=-1)]: Done   1 jobs       | elapsed:    1.7s\n",
        "[Parallel(n_jobs=-1)]: Done  50 jobs       | elapsed:   38.0s\n",
        "[Parallel(n_jobs=-1)]: Done  66 out of  72 | elapsed:   52.7s remaining:    4.8s\n",
        "[Parallel(n_jobs=-1)]: Done  72 out of  72 | elapsed:   58.8s finished\n"
       ]
      }
     ]
    },
    {
     "cell_type": "code",
     "collapsed": false,
     "input": [
      "digits = datasets.load_digits()\n",
      "io.imshow(digits.images[-1])\n",
      "io.show()\n"
     ],
     "language": "python",
     "metadata": {},
     "outputs": []
    },
    {
     "cell_type": "code",
     "collapsed": false,
     "input": [],
     "language": "python",
     "metadata": {},
     "outputs": []
    }
   ],
   "metadata": {}
  }
 ]
}